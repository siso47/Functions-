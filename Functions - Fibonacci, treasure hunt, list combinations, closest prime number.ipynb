{
 "cells": [
  {
   "cell_type": "code",
   "execution_count": 21,
   "metadata": {},
   "outputs": [],
   "source": [
    "import itertools\n",
    "import numpy as np"
   ]
  },
  {
   "cell_type": "markdown",
   "metadata": {},
   "source": [
    "Problem:\n",
    "Write a function that computes the list of the first 100 Fibonacci numbers. By definition, the first two numbers in the Fibonacci sequence are 0 and 1, and each subsequent number is the sum of the previous two. As an example, here are the first 10 Fibonnaci numbers: 0, 1, 1, 2, 3, 5, 8, 13, 21, and 34.\n",
    "(https://www.shiftedup.com/2015/05/07/five-programming-problems-every-software-engineer-should-be-able-to-solve-in-less-than-1-hour)"
   ]
  },
  {
   "cell_type": "code",
   "execution_count": 22,
   "metadata": {},
   "outputs": [
    {
     "name": "stdout",
     "output_type": "stream",
     "text": [
      "The first 20 fibonacci nos. are [0, 1, 1, 2, 3, 5, 8, 13, 21, 34, 55, 89, 144, 233, 377, 610, 987, 1597, 2584, 4181]\n"
     ]
    }
   ],
   "source": [
    "def fibonacci(num):\n",
    "    fibonacci_nos = [0,1]\n",
    "    \n",
    "    for element in range(num-2):\n",
    "        x = fibonacci_nos[-1] + fibonacci_nos[-2]\n",
    "        fibonacci_nos.append(x)\n",
    "    print(\"The first {} fibonacci nos. are {}\".format(num, fibonacci_nos))\n",
    "\n",
    "# First 20 fibonacci numbers:\n",
    "fibonacci(20)"
   ]
  },
  {
   "cell_type": "raw",
   "metadata": {},
   "source": [
    "Problem:\n",
    "Write a function that combines two lists by alternatingly taking elements. For example: given the two lists [a, b, c] and [1, 2, 3], the function should return [a, 1, b, 2, c, 3].\n",
    "(https://www.shiftedup.com/2015/05/07/five-programming-problems-every-software-engineer-should-be-able-to-solve-in-less-than-1-hour)"
   ]
  },
  {
   "cell_type": "code",
   "execution_count": 23,
   "metadata": {},
   "outputs": [
    {
     "data": {
      "text/plain": [
       "['f', 2, 'e', 3, 'I', 5, 'm', 7, 'r', 2, 's', 1]"
      ]
     },
     "execution_count": 23,
     "metadata": {},
     "output_type": "execute_result"
    }
   ],
   "source": [
    "def combine_two_lists (list_one, list_two):\n",
    "    new_list = list()\n",
    "    a = 0\n",
    "    b = 0\n",
    "    lenght_one = len(list_one)\n",
    "    lenght_two = len(list_two)\n",
    "    while a < lenght_one:\n",
    "        new_list.append(list_one[a])\n",
    "        a = a + 1\n",
    "        new_list.append(list_two[b])\n",
    "        b = b + 1\n",
    "    return(new_list)\n",
    "    print(new_list)\n",
    "\n",
    "# example\n",
    "aaa = ['f', 'e', 'I', 'm' , 'r', 's']\n",
    "\n",
    "bbb = [2,3,5,7,2,1]\n",
    "\n",
    "combine_two_lists(aaa, bbb)"
   ]
  },
  {
   "cell_type": "raw",
   "metadata": {},
   "source": [
    "Problem:\n",
    "Write a function that given a list of non negative integers, arranges them such that they form the largest possible number. For example, given [50, 2, 1, 9], the largest formed number is 95021.\n",
    "(https://www.shiftedup.com/2015/05/07/five-programming-problems-every-software-engineer-should-be-able-to-solve-in-less-than-1-hour)"
   ]
  },
  {
   "cell_type": "code",
   "execution_count": 24,
   "metadata": {},
   "outputs": [
    {
     "name": "stdout",
     "output_type": "stream",
     "text": [
      "95021\n"
     ]
    }
   ],
   "source": [
    "def sort_largest(x):\n",
    "    value = 1\n",
    "    for item in itertools.permutations(x, len(x)):\n",
    "        stritem = ''\n",
    "        for x in item:\n",
    "            strx = str(x)\n",
    "            stritem = stritem + str(x)\n",
    "        val = eval(stritem)\n",
    "        if val > value:\n",
    "            value = val\n",
    "    print(value)\n",
    "\n",
    "#example:\n",
    "sort_largest([50, 2, 1, 9])"
   ]
  },
  {
   "cell_type": "raw",
   "metadata": {},
   "source": [
    "Do you like treasure hunts? In this problem you are to write a program to explore the above array for a treasure. The values in the array are clues. Each cell contains an integer between 11 and 55; for each value the ten's digit represents the row number and the unit's digit represents the column number of the cell containing the next clue. Starting in the upper left corner (at 1,1), use the clues to guide your search of the array. (The first three clues are 11, 34, 42). The treasure is a cell whose value is the same as its coordinates. Your program must first read in the treasure map data into a 5 by 5 array. Your program should output the cells it visits during its search, and a message indicating where you found the treasure.\n",
    "\n",
    "                  +-------------------------+\n",
    "                  ¦ 34 ¦ 21 ¦ 32 ¦ 41 ¦ 25  ¦\n",
    "                  +----+----+----+----+-----¦\n",
    "                  ¦ 14 ¦ 42 ¦ 43 ¦ 14 ¦ 31  ¦\n",
    "                  +----+----+----+----+-----¦\n",
    "                  ¦ 54 ¦ 45 ¦ 52 ¦ 42 ¦ 23  ¦\n",
    "                  +----+----+----+----+-----¦\n",
    "                  ¦ 33 ¦ 15 ¦ 51 ¦ 31 ¦ 35  ¦\n",
    "                  +----+----+----+----+-----¦\n",
    "                  ¦ 21 ¦ 52 ¦ 33 ¦ 13 ¦ 23  ¦\n",
    "                  +-------------------------\n",
    "\n",
    "\n",
    "(http://users.csc.calpoly.edu/~jdalbey/103/Projects/ProgrammingPractice.html)"
   ]
  },
  {
   "cell_type": "code",
   "execution_count": 25,
   "metadata": {},
   "outputs": [
    {
     "name": "stdout",
     "output_type": "stream",
     "text": [
      "the treasure is at position (5, 2) and is valued at 52. took 19 steps to find it. \n"
     ]
    }
   ],
   "source": [
    "# modified slightly to output the cell with the treasure and the number of steps it took to find it. \n",
    "def find_treasure(a):\n",
    "    p = 1\n",
    "    q = 1\n",
    "    start = a[0:p, 0:q]\n",
    "    next_no = start[0][0]\n",
    "    res = int(str(p) + str(q))\n",
    "    count = 1\n",
    "    while next_no != res:\n",
    "        \n",
    "        next_str = str(next_no)\n",
    "        row_str = next_str[0]; col_str = next_str[1]\n",
    "        p = int(row_str); q = int(col_str)\n",
    "        \n",
    "        start = a[p-1 : p, q-1:q]\n",
    "        next_no = start[0][0]\n",
    "        res = int(str(p) + str(q))\n",
    "        count = count + 1\n",
    "        \n",
    "    print(\"the treasure is at position {} and is valued at {}. took {} steps to find it. \".format((p,q), next_no, count))\n",
    "\n",
    "    \n",
    "# example using given array \n",
    "a = np.array([[34, 21, 32, 41, 25], [14, 42, 43, 14, 31], [54, 45, 52, 42, 23], [33, 15, 51, 31, 35], [21, 52, 33, 13,23]])\n",
    "\n",
    "find_treasure(a)"
   ]
  },
  {
   "cell_type": "raw",
   "metadata": {},
   "source": [
    "function to check if a number is a prime number"
   ]
  },
  {
   "cell_type": "code",
   "execution_count": 26,
   "metadata": {},
   "outputs": [],
   "source": [
    "def is_prime(number):\n",
    "    counter = 2\n",
    "    while counter <= number /2:\n",
    "        if number % counter == 0:\n",
    "            return False\n",
    "        else:\n",
    "            counter = counter + 1\n",
    "    return True\n",
    "            \n",
    "def closest_prime(number):\n",
    "    if is_prime(number) == True: \n",
    "        print(str(number) + \" is itself a prime\")\n",
    "    else:\n",
    "        nextno = number + 1\n",
    "        while is_prime(nextno) == False:\n",
    "            nextno = nextno + 1\n",
    "        return print(str(number) + \" is not a prime. the next closest prime is \" + str(nextno))\n",
    " \n"
   ]
  },
  {
   "cell_type": "code",
   "execution_count": 27,
   "metadata": {},
   "outputs": [
    {
     "data": {
      "text/plain": [
       "True"
      ]
     },
     "execution_count": 27,
     "metadata": {},
     "output_type": "execute_result"
    }
   ],
   "source": [
    "is_prime(29)"
   ]
  },
  {
   "cell_type": "code",
   "execution_count": 28,
   "metadata": {},
   "outputs": [
    {
     "data": {
      "text/plain": [
       "False"
      ]
     },
     "execution_count": 28,
     "metadata": {},
     "output_type": "execute_result"
    }
   ],
   "source": [
    "is_prime(32)"
   ]
  },
  {
   "cell_type": "code",
   "execution_count": 29,
   "metadata": {},
   "outputs": [
    {
     "name": "stdout",
     "output_type": "stream",
     "text": [
      "104 is not a prime. the next closest prime is 107\n"
     ]
    }
   ],
   "source": [
    "closest_prime(104)"
   ]
  },
  {
   "cell_type": "code",
   "execution_count": null,
   "metadata": {},
   "outputs": [],
   "source": []
  }
 ],
 "metadata": {
  "kernelspec": {
   "display_name": "Python 3",
   "language": "python",
   "name": "python3"
  },
  "language_info": {
   "codemirror_mode": {
    "name": "ipython",
    "version": 3
   },
   "file_extension": ".py",
   "mimetype": "text/x-python",
   "name": "python",
   "nbconvert_exporter": "python",
   "pygments_lexer": "ipython3",
   "version": "3.6.4"
  }
 },
 "nbformat": 4,
 "nbformat_minor": 2
}
